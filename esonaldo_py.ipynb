{
  "nbformat": 4,
  "nbformat_minor": 0,
  "metadata": {
    "colab": {
      "provenance": [],
      "collapsed_sections": []
    },
    "kernelspec": {
      "name": "python3",
      "display_name": "Python 3"
    },
    "language_info": {
      "name": "python"
    }
  },
  "cells": [
    {
      "cell_type": "code",
      "execution_count": 2,
      "metadata": {
        "colab": {
          "base_uri": "https://localhost:8080/"
        },
        "id": "zUrfcdLB1LA7",
        "outputId": "dd1927d7-04fd-4cb8-d9b4-edfdbc731791"
      },
      "outputs": [
        {
          "output_type": "stream",
          "name": "stdout",
          "text": [
            "lel "
          ]
        }
      ],
      "source": [
        "import main"
      ]
    },
    {
      "cell_type": "code",
      "source": [],
      "metadata": {
        "id": "ytdrf8B_1a6l"
      },
      "execution_count": null,
      "outputs": []
    }
  ]
}